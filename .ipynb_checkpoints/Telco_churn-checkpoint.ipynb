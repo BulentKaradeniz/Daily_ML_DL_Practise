{
 "cells": [
  {
   "cell_type": "markdown",
   "id": "b33a2d10-5e58-4e65-87f3-af75c34fc013",
   "metadata": {},
   "source": [
    "# Telco Clustering📈& Churn Prediction"
   ]
  },
  {
   "cell_type": "raw",
   "id": "4b83d862-25f9-4f53-87ec-3a6f28227dc3",
   "metadata": {},
   "source": [
    "The data set includes information about:\n",
    "\n",
    "Customers who left within the last month – the column is called Churn\n",
    "Services that each customer has signed up for – phone, multiple lines, internet, online security, online backup, device protection, tech support, and streaming TV and movies\n",
    "Customer account information – how long they’ve been a customer, contract, payment method, paperless billing, monthly charges, and total charges\n",
    "Demographic info about customers – gender, age range, and if they have partners and dependents"
   ]
  },
  {
   "cell_type": "markdown",
   "id": "4de646c7-2835-40bf-a001-1cdf5e5da80b",
   "metadata": {},
   "source": [
    "# Columns Decription"
   ]
  },
  {
   "cell_type": "raw",
   "id": "14fb016e-be38-49bd-b482-ccbb10c3268a",
   "metadata": {},
   "source": [
    "customerID - Customer ID\n",
    "\n",
    "gender - Whether the customer is a male or a female\n",
    "\n",
    "SeniorCitizen - Whether the customer is a senior citizen (1, 0)\n",
    "\n",
    "Partner - Whether the customer has a partner (Yes, No)\n",
    "\n",
    "Dependents - Whether the customer has dependents (Yes, No)\n",
    "\n",
    "tenure - Number of months the customer has stayed with the company\n",
    "\n",
    "PhoneService - Whether the customer has a phone service (Yes, No)\n",
    "\n",
    "MultipleLines - Whether the customer has multiple lines (Yes, No, No phone service)\n",
    "\n",
    "InternetService - Customer’s internet service provider (DSL, Fiber optic, No)\n",
    "\n",
    "OnlineSecurity - Whether the customer has online security (Yes, No, No internet service)\n",
    "\n",
    "OnlineBackup - Whether the customer has online backup or not (Yes, No, No internet service)\n",
    "\n",
    "DeviceProtection - Whether the customer has device protection (Yes, No, No internet service)\n",
    "\n",
    "TechSupport - Whether the customer has tech support (Yes, No, No internet service)\n",
    "\n",
    "StreamingTV - Whether the customer has streaming TV service (Yes, No, No internet service)\n",
    "\n",
    "StreamingMovies - Whether the customer has streaming movies service (Yes, No, No internet service)\n",
    "\n",
    "Contract - Indicates the type of the contract (Month-to-month, One year, Two year)\n",
    "\n",
    "PaperlessBilling - Whether the customer has paperless billing (Yes, No)\n",
    "\n",
    "PaymentMethod - Indicates the payment method (Electronic check, Mailed check, Bank transfer (automatic), Credit card (automatic))\n",
    "\n",
    "MonthlyCharges - Indicates the current monthly subscription cost of the customer\n",
    "\n",
    "TotalCharges - Indicates the total charges paid by the customer so far\n",
    "\n",
    "Churn - Indicates whether the customer churned"
   ]
  },
  {
   "cell_type": "markdown",
   "id": "512c5971-aaee-4b2d-9b25-4defe72d02ab",
   "metadata": {},
   "source": [
    "# Import Data"
   ]
  },
  {
   "cell_type": "code",
   "execution_count": 1,
   "id": "a7223b95-89a6-46bd-ad16-2025bdea1f95",
   "metadata": {
    "tags": []
   },
   "outputs": [],
   "source": [
    "import numpy as np\n",
    "import pandas as pd\n",
    "from matplotlib import pyplot as plt\n",
    "import matplotlib.ticker as mtick\n",
    "import seaborn as sns\n",
    "import re"
   ]
  },
  {
   "cell_type": "code",
   "execution_count": 3,
   "id": "a05102f1-9ba3-48a0-8161-c5b6116d1eac",
   "metadata": {
    "tags": []
   },
   "outputs": [],
   "source": [
    "import pandas as pd\n",
    "df = pd.read_csv('WA_Fn-UseC_-Telco-Customer-Churn.csv')"
   ]
  },
  {
   "cell_type": "markdown",
   "id": "5c26939b-f9e7-4506-8e9a-9ef6efccd01b",
   "metadata": {},
   "source": [
    "# Exploring data set"
   ]
  },
  {
   "cell_type": "code",
   "execution_count": 4,
   "id": "b8d31d8b-2469-4052-abe2-d887323f99c0",
   "metadata": {
    "tags": []
   },
   "outputs": [
    {
     "name": "stdout",
     "output_type": "stream",
     "text": [
      "<class 'pandas.core.frame.DataFrame'>\n",
      "RangeIndex: 7043 entries, 0 to 7042\n",
      "Data columns (total 21 columns):\n",
      " #   Column            Non-Null Count  Dtype  \n",
      "---  ------            --------------  -----  \n",
      " 0   customerID        7043 non-null   object \n",
      " 1   gender            7043 non-null   object \n",
      " 2   SeniorCitizen     7043 non-null   int64  \n",
      " 3   Partner           7043 non-null   object \n",
      " 4   Dependents        7043 non-null   object \n",
      " 5   tenure            7043 non-null   int64  \n",
      " 6   PhoneService      7043 non-null   object \n",
      " 7   MultipleLines     7043 non-null   object \n",
      " 8   InternetService   7043 non-null   object \n",
      " 9   OnlineSecurity    7043 non-null   object \n",
      " 10  OnlineBackup      7043 non-null   object \n",
      " 11  DeviceProtection  7043 non-null   object \n",
      " 12  TechSupport       7043 non-null   object \n",
      " 13  StreamingTV       7043 non-null   object \n",
      " 14  StreamingMovies   7043 non-null   object \n",
      " 15  Contract          7043 non-null   object \n",
      " 16  PaperlessBilling  7043 non-null   object \n",
      " 17  PaymentMethod     7043 non-null   object \n",
      " 18  MonthlyCharges    7043 non-null   float64\n",
      " 19  TotalCharges      7043 non-null   object \n",
      " 20  Churn             7043 non-null   object \n",
      "dtypes: float64(1), int64(2), object(18)\n",
      "memory usage: 1.1+ MB\n"
     ]
    }
   ],
   "source": [
    "df.info()"
   ]
  },
  {
   "cell_type": "code",
   "execution_count": 6,
   "id": "1fe08ecc-84c8-463a-af09-741b93e000f9",
   "metadata": {
    "tags": []
   },
   "outputs": [
    {
     "data": {
      "text/html": [
       "<div>\n",
       "<style scoped>\n",
       "    .dataframe tbody tr th:only-of-type {\n",
       "        vertical-align: middle;\n",
       "    }\n",
       "\n",
       "    .dataframe tbody tr th {\n",
       "        vertical-align: top;\n",
       "    }\n",
       "\n",
       "    .dataframe thead th {\n",
       "        text-align: right;\n",
       "    }\n",
       "</style>\n",
       "<table border=\"1\" class=\"dataframe\">\n",
       "  <thead>\n",
       "    <tr style=\"text-align: right;\">\n",
       "      <th></th>\n",
       "      <th>customerID</th>\n",
       "      <th>gender</th>\n",
       "      <th>SeniorCitizen</th>\n",
       "      <th>Partner</th>\n",
       "      <th>Dependents</th>\n",
       "      <th>tenure</th>\n",
       "      <th>PhoneService</th>\n",
       "      <th>MultipleLines</th>\n",
       "      <th>InternetService</th>\n",
       "      <th>OnlineSecurity</th>\n",
       "      <th>...</th>\n",
       "      <th>DeviceProtection</th>\n",
       "      <th>TechSupport</th>\n",
       "      <th>StreamingTV</th>\n",
       "      <th>StreamingMovies</th>\n",
       "      <th>Contract</th>\n",
       "      <th>PaperlessBilling</th>\n",
       "      <th>PaymentMethod</th>\n",
       "      <th>MonthlyCharges</th>\n",
       "      <th>TotalCharges</th>\n",
       "      <th>Churn</th>\n",
       "    </tr>\n",
       "  </thead>\n",
       "  <tbody>\n",
       "    <tr>\n",
       "      <th>5994</th>\n",
       "      <td>9661-ACXBS</td>\n",
       "      <td>Female</td>\n",
       "      <td>0</td>\n",
       "      <td>No</td>\n",
       "      <td>No</td>\n",
       "      <td>42</td>\n",
       "      <td>Yes</td>\n",
       "      <td>Yes</td>\n",
       "      <td>Fiber optic</td>\n",
       "      <td>Yes</td>\n",
       "      <td>...</td>\n",
       "      <td>Yes</td>\n",
       "      <td>No</td>\n",
       "      <td>Yes</td>\n",
       "      <td>Yes</td>\n",
       "      <td>Month-to-month</td>\n",
       "      <td>Yes</td>\n",
       "      <td>Electronic check</td>\n",
       "      <td>105.20</td>\n",
       "      <td>4400.75</td>\n",
       "      <td>Yes</td>\n",
       "    </tr>\n",
       "    <tr>\n",
       "      <th>3309</th>\n",
       "      <td>6061-PQHMK</td>\n",
       "      <td>Female</td>\n",
       "      <td>0</td>\n",
       "      <td>No</td>\n",
       "      <td>No</td>\n",
       "      <td>25</td>\n",
       "      <td>Yes</td>\n",
       "      <td>No</td>\n",
       "      <td>No</td>\n",
       "      <td>No internet service</td>\n",
       "      <td>...</td>\n",
       "      <td>No internet service</td>\n",
       "      <td>No internet service</td>\n",
       "      <td>No internet service</td>\n",
       "      <td>No internet service</td>\n",
       "      <td>One year</td>\n",
       "      <td>No</td>\n",
       "      <td>Credit card (automatic)</td>\n",
       "      <td>19.90</td>\n",
       "      <td>527.5</td>\n",
       "      <td>No</td>\n",
       "    </tr>\n",
       "    <tr>\n",
       "      <th>4947</th>\n",
       "      <td>4735-ASGMA</td>\n",
       "      <td>Male</td>\n",
       "      <td>0</td>\n",
       "      <td>No</td>\n",
       "      <td>No</td>\n",
       "      <td>26</td>\n",
       "      <td>Yes</td>\n",
       "      <td>Yes</td>\n",
       "      <td>Fiber optic</td>\n",
       "      <td>No</td>\n",
       "      <td>...</td>\n",
       "      <td>Yes</td>\n",
       "      <td>No</td>\n",
       "      <td>Yes</td>\n",
       "      <td>Yes</td>\n",
       "      <td>Month-to-month</td>\n",
       "      <td>Yes</td>\n",
       "      <td>Electronic check</td>\n",
       "      <td>98.35</td>\n",
       "      <td>2515.3</td>\n",
       "      <td>Yes</td>\n",
       "    </tr>\n",
       "    <tr>\n",
       "      <th>2152</th>\n",
       "      <td>0248-IPDFW</td>\n",
       "      <td>Female</td>\n",
       "      <td>0</td>\n",
       "      <td>No</td>\n",
       "      <td>No</td>\n",
       "      <td>1</td>\n",
       "      <td>Yes</td>\n",
       "      <td>Yes</td>\n",
       "      <td>DSL</td>\n",
       "      <td>No</td>\n",
       "      <td>...</td>\n",
       "      <td>No</td>\n",
       "      <td>No</td>\n",
       "      <td>No</td>\n",
       "      <td>No</td>\n",
       "      <td>Month-to-month</td>\n",
       "      <td>Yes</td>\n",
       "      <td>Electronic check</td>\n",
       "      <td>50.10</td>\n",
       "      <td>50.1</td>\n",
       "      <td>No</td>\n",
       "    </tr>\n",
       "    <tr>\n",
       "      <th>3962</th>\n",
       "      <td>8972-HJWNV</td>\n",
       "      <td>Female</td>\n",
       "      <td>1</td>\n",
       "      <td>Yes</td>\n",
       "      <td>No</td>\n",
       "      <td>7</td>\n",
       "      <td>Yes</td>\n",
       "      <td>Yes</td>\n",
       "      <td>Fiber optic</td>\n",
       "      <td>No</td>\n",
       "      <td>...</td>\n",
       "      <td>No</td>\n",
       "      <td>No</td>\n",
       "      <td>No</td>\n",
       "      <td>Yes</td>\n",
       "      <td>Month-to-month</td>\n",
       "      <td>Yes</td>\n",
       "      <td>Electronic check</td>\n",
       "      <td>84.55</td>\n",
       "      <td>646.85</td>\n",
       "      <td>Yes</td>\n",
       "    </tr>\n",
       "    <tr>\n",
       "      <th>5414</th>\n",
       "      <td>2722-VOJQL</td>\n",
       "      <td>Male</td>\n",
       "      <td>0</td>\n",
       "      <td>No</td>\n",
       "      <td>No</td>\n",
       "      <td>64</td>\n",
       "      <td>Yes</td>\n",
       "      <td>Yes</td>\n",
       "      <td>Fiber optic</td>\n",
       "      <td>No</td>\n",
       "      <td>...</td>\n",
       "      <td>No</td>\n",
       "      <td>Yes</td>\n",
       "      <td>Yes</td>\n",
       "      <td>Yes</td>\n",
       "      <td>One year</td>\n",
       "      <td>Yes</td>\n",
       "      <td>Credit card (automatic)</td>\n",
       "      <td>105.65</td>\n",
       "      <td>6903.1</td>\n",
       "      <td>Yes</td>\n",
       "    </tr>\n",
       "    <tr>\n",
       "      <th>855</th>\n",
       "      <td>2382-BCKQJ</td>\n",
       "      <td>Female</td>\n",
       "      <td>0</td>\n",
       "      <td>No</td>\n",
       "      <td>Yes</td>\n",
       "      <td>62</td>\n",
       "      <td>Yes</td>\n",
       "      <td>Yes</td>\n",
       "      <td>Fiber optic</td>\n",
       "      <td>No</td>\n",
       "      <td>...</td>\n",
       "      <td>Yes</td>\n",
       "      <td>No</td>\n",
       "      <td>Yes</td>\n",
       "      <td>Yes</td>\n",
       "      <td>One year</td>\n",
       "      <td>Yes</td>\n",
       "      <td>Electronic check</td>\n",
       "      <td>100.15</td>\n",
       "      <td>6413.65</td>\n",
       "      <td>Yes</td>\n",
       "    </tr>\n",
       "    <tr>\n",
       "      <th>6037</th>\n",
       "      <td>7537-CBQUZ</td>\n",
       "      <td>Male</td>\n",
       "      <td>1</td>\n",
       "      <td>No</td>\n",
       "      <td>No</td>\n",
       "      <td>63</td>\n",
       "      <td>Yes</td>\n",
       "      <td>Yes</td>\n",
       "      <td>Fiber optic</td>\n",
       "      <td>Yes</td>\n",
       "      <td>...</td>\n",
       "      <td>Yes</td>\n",
       "      <td>No</td>\n",
       "      <td>Yes</td>\n",
       "      <td>Yes</td>\n",
       "      <td>Month-to-month</td>\n",
       "      <td>Yes</td>\n",
       "      <td>Bank transfer (automatic)</td>\n",
       "      <td>109.40</td>\n",
       "      <td>7031.45</td>\n",
       "      <td>No</td>\n",
       "    </tr>\n",
       "    <tr>\n",
       "      <th>4889</th>\n",
       "      <td>9746-MDMBK</td>\n",
       "      <td>Male</td>\n",
       "      <td>0</td>\n",
       "      <td>Yes</td>\n",
       "      <td>Yes</td>\n",
       "      <td>47</td>\n",
       "      <td>Yes</td>\n",
       "      <td>Yes</td>\n",
       "      <td>Fiber optic</td>\n",
       "      <td>Yes</td>\n",
       "      <td>...</td>\n",
       "      <td>Yes</td>\n",
       "      <td>Yes</td>\n",
       "      <td>Yes</td>\n",
       "      <td>Yes</td>\n",
       "      <td>One year</td>\n",
       "      <td>Yes</td>\n",
       "      <td>Bank transfer (automatic)</td>\n",
       "      <td>113.45</td>\n",
       "      <td>5317.8</td>\n",
       "      <td>No</td>\n",
       "    </tr>\n",
       "    <tr>\n",
       "      <th>4405</th>\n",
       "      <td>8417-FMLZI</td>\n",
       "      <td>Male</td>\n",
       "      <td>0</td>\n",
       "      <td>Yes</td>\n",
       "      <td>Yes</td>\n",
       "      <td>6</td>\n",
       "      <td>Yes</td>\n",
       "      <td>No</td>\n",
       "      <td>Fiber optic</td>\n",
       "      <td>No</td>\n",
       "      <td>...</td>\n",
       "      <td>No</td>\n",
       "      <td>No</td>\n",
       "      <td>No</td>\n",
       "      <td>Yes</td>\n",
       "      <td>Month-to-month</td>\n",
       "      <td>Yes</td>\n",
       "      <td>Credit card (automatic)</td>\n",
       "      <td>83.55</td>\n",
       "      <td>477.55</td>\n",
       "      <td>Yes</td>\n",
       "    </tr>\n",
       "  </tbody>\n",
       "</table>\n",
       "<p>10 rows × 21 columns</p>\n",
       "</div>"
      ],
      "text/plain": [
       "      customerID  gender  SeniorCitizen Partner Dependents  tenure  \\\n",
       "5994  9661-ACXBS  Female              0      No         No      42   \n",
       "3309  6061-PQHMK  Female              0      No         No      25   \n",
       "4947  4735-ASGMA    Male              0      No         No      26   \n",
       "2152  0248-IPDFW  Female              0      No         No       1   \n",
       "3962  8972-HJWNV  Female              1     Yes         No       7   \n",
       "5414  2722-VOJQL    Male              0      No         No      64   \n",
       "855   2382-BCKQJ  Female              0      No        Yes      62   \n",
       "6037  7537-CBQUZ    Male              1      No         No      63   \n",
       "4889  9746-MDMBK    Male              0     Yes        Yes      47   \n",
       "4405  8417-FMLZI    Male              0     Yes        Yes       6   \n",
       "\n",
       "     PhoneService MultipleLines InternetService       OnlineSecurity  ...  \\\n",
       "5994          Yes           Yes     Fiber optic                  Yes  ...   \n",
       "3309          Yes            No              No  No internet service  ...   \n",
       "4947          Yes           Yes     Fiber optic                   No  ...   \n",
       "2152          Yes           Yes             DSL                   No  ...   \n",
       "3962          Yes           Yes     Fiber optic                   No  ...   \n",
       "5414          Yes           Yes     Fiber optic                   No  ...   \n",
       "855           Yes           Yes     Fiber optic                   No  ...   \n",
       "6037          Yes           Yes     Fiber optic                  Yes  ...   \n",
       "4889          Yes           Yes     Fiber optic                  Yes  ...   \n",
       "4405          Yes            No     Fiber optic                   No  ...   \n",
       "\n",
       "         DeviceProtection          TechSupport          StreamingTV  \\\n",
       "5994                  Yes                   No                  Yes   \n",
       "3309  No internet service  No internet service  No internet service   \n",
       "4947                  Yes                   No                  Yes   \n",
       "2152                   No                   No                   No   \n",
       "3962                   No                   No                   No   \n",
       "5414                   No                  Yes                  Yes   \n",
       "855                   Yes                   No                  Yes   \n",
       "6037                  Yes                   No                  Yes   \n",
       "4889                  Yes                  Yes                  Yes   \n",
       "4405                   No                   No                   No   \n",
       "\n",
       "          StreamingMovies        Contract PaperlessBilling  \\\n",
       "5994                  Yes  Month-to-month              Yes   \n",
       "3309  No internet service        One year               No   \n",
       "4947                  Yes  Month-to-month              Yes   \n",
       "2152                   No  Month-to-month              Yes   \n",
       "3962                  Yes  Month-to-month              Yes   \n",
       "5414                  Yes        One year              Yes   \n",
       "855                   Yes        One year              Yes   \n",
       "6037                  Yes  Month-to-month              Yes   \n",
       "4889                  Yes        One year              Yes   \n",
       "4405                  Yes  Month-to-month              Yes   \n",
       "\n",
       "                  PaymentMethod MonthlyCharges  TotalCharges Churn  \n",
       "5994           Electronic check         105.20       4400.75   Yes  \n",
       "3309    Credit card (automatic)          19.90         527.5    No  \n",
       "4947           Electronic check          98.35        2515.3   Yes  \n",
       "2152           Electronic check          50.10          50.1    No  \n",
       "3962           Electronic check          84.55        646.85   Yes  \n",
       "5414    Credit card (automatic)         105.65        6903.1   Yes  \n",
       "855            Electronic check         100.15       6413.65   Yes  \n",
       "6037  Bank transfer (automatic)         109.40       7031.45    No  \n",
       "4889  Bank transfer (automatic)         113.45        5317.8    No  \n",
       "4405    Credit card (automatic)          83.55        477.55   Yes  \n",
       "\n",
       "[10 rows x 21 columns]"
      ]
     },
     "execution_count": 6,
     "metadata": {},
     "output_type": "execute_result"
    }
   ],
   "source": [
    "df.sample(10)"
   ]
  },
  {
   "cell_type": "code",
   "execution_count": 10,
   "id": "fa21de38-87a7-4103-996a-2d668868af7d",
   "metadata": {
    "tags": []
   },
   "outputs": [
    {
     "data": {
      "text/html": [
       "<div>\n",
       "<style scoped>\n",
       "    .dataframe tbody tr th:only-of-type {\n",
       "        vertical-align: middle;\n",
       "    }\n",
       "\n",
       "    .dataframe tbody tr th {\n",
       "        vertical-align: top;\n",
       "    }\n",
       "\n",
       "    .dataframe thead th {\n",
       "        text-align: right;\n",
       "    }\n",
       "</style>\n",
       "<table border=\"1\" class=\"dataframe\">\n",
       "  <thead>\n",
       "    <tr style=\"text-align: right;\">\n",
       "      <th></th>\n",
       "      <th>count</th>\n",
       "      <th>unique</th>\n",
       "      <th>top</th>\n",
       "      <th>freq</th>\n",
       "      <th>mean</th>\n",
       "      <th>std</th>\n",
       "      <th>min</th>\n",
       "      <th>25%</th>\n",
       "      <th>50%</th>\n",
       "      <th>75%</th>\n",
       "      <th>max</th>\n",
       "    </tr>\n",
       "  </thead>\n",
       "  <tbody>\n",
       "    <tr>\n",
       "      <th>customerID</th>\n",
       "      <td>7043</td>\n",
       "      <td>7043</td>\n",
       "      <td>7590-VHVEG</td>\n",
       "      <td>1</td>\n",
       "      <td>NaN</td>\n",
       "      <td>NaN</td>\n",
       "      <td>NaN</td>\n",
       "      <td>NaN</td>\n",
       "      <td>NaN</td>\n",
       "      <td>NaN</td>\n",
       "      <td>NaN</td>\n",
       "    </tr>\n",
       "    <tr>\n",
       "      <th>gender</th>\n",
       "      <td>7043</td>\n",
       "      <td>2</td>\n",
       "      <td>Male</td>\n",
       "      <td>3555</td>\n",
       "      <td>NaN</td>\n",
       "      <td>NaN</td>\n",
       "      <td>NaN</td>\n",
       "      <td>NaN</td>\n",
       "      <td>NaN</td>\n",
       "      <td>NaN</td>\n",
       "      <td>NaN</td>\n",
       "    </tr>\n",
       "    <tr>\n",
       "      <th>SeniorCitizen</th>\n",
       "      <td>7043.0</td>\n",
       "      <td>NaN</td>\n",
       "      <td>NaN</td>\n",
       "      <td>NaN</td>\n",
       "      <td>0.162147</td>\n",
       "      <td>0.368612</td>\n",
       "      <td>0.0</td>\n",
       "      <td>0.0</td>\n",
       "      <td>0.0</td>\n",
       "      <td>0.0</td>\n",
       "      <td>1.0</td>\n",
       "    </tr>\n",
       "    <tr>\n",
       "      <th>Partner</th>\n",
       "      <td>7043</td>\n",
       "      <td>2</td>\n",
       "      <td>No</td>\n",
       "      <td>3641</td>\n",
       "      <td>NaN</td>\n",
       "      <td>NaN</td>\n",
       "      <td>NaN</td>\n",
       "      <td>NaN</td>\n",
       "      <td>NaN</td>\n",
       "      <td>NaN</td>\n",
       "      <td>NaN</td>\n",
       "    </tr>\n",
       "    <tr>\n",
       "      <th>Dependents</th>\n",
       "      <td>7043</td>\n",
       "      <td>2</td>\n",
       "      <td>No</td>\n",
       "      <td>4933</td>\n",
       "      <td>NaN</td>\n",
       "      <td>NaN</td>\n",
       "      <td>NaN</td>\n",
       "      <td>NaN</td>\n",
       "      <td>NaN</td>\n",
       "      <td>NaN</td>\n",
       "      <td>NaN</td>\n",
       "    </tr>\n",
       "    <tr>\n",
       "      <th>tenure</th>\n",
       "      <td>7043.0</td>\n",
       "      <td>NaN</td>\n",
       "      <td>NaN</td>\n",
       "      <td>NaN</td>\n",
       "      <td>32.371149</td>\n",
       "      <td>24.559481</td>\n",
       "      <td>0.0</td>\n",
       "      <td>9.0</td>\n",
       "      <td>29.0</td>\n",
       "      <td>55.0</td>\n",
       "      <td>72.0</td>\n",
       "    </tr>\n",
       "    <tr>\n",
       "      <th>PhoneService</th>\n",
       "      <td>7043</td>\n",
       "      <td>2</td>\n",
       "      <td>Yes</td>\n",
       "      <td>6361</td>\n",
       "      <td>NaN</td>\n",
       "      <td>NaN</td>\n",
       "      <td>NaN</td>\n",
       "      <td>NaN</td>\n",
       "      <td>NaN</td>\n",
       "      <td>NaN</td>\n",
       "      <td>NaN</td>\n",
       "    </tr>\n",
       "    <tr>\n",
       "      <th>MultipleLines</th>\n",
       "      <td>7043</td>\n",
       "      <td>3</td>\n",
       "      <td>No</td>\n",
       "      <td>3390</td>\n",
       "      <td>NaN</td>\n",
       "      <td>NaN</td>\n",
       "      <td>NaN</td>\n",
       "      <td>NaN</td>\n",
       "      <td>NaN</td>\n",
       "      <td>NaN</td>\n",
       "      <td>NaN</td>\n",
       "    </tr>\n",
       "    <tr>\n",
       "      <th>InternetService</th>\n",
       "      <td>7043</td>\n",
       "      <td>3</td>\n",
       "      <td>Fiber optic</td>\n",
       "      <td>3096</td>\n",
       "      <td>NaN</td>\n",
       "      <td>NaN</td>\n",
       "      <td>NaN</td>\n",
       "      <td>NaN</td>\n",
       "      <td>NaN</td>\n",
       "      <td>NaN</td>\n",
       "      <td>NaN</td>\n",
       "    </tr>\n",
       "    <tr>\n",
       "      <th>OnlineSecurity</th>\n",
       "      <td>7043</td>\n",
       "      <td>3</td>\n",
       "      <td>No</td>\n",
       "      <td>3498</td>\n",
       "      <td>NaN</td>\n",
       "      <td>NaN</td>\n",
       "      <td>NaN</td>\n",
       "      <td>NaN</td>\n",
       "      <td>NaN</td>\n",
       "      <td>NaN</td>\n",
       "      <td>NaN</td>\n",
       "    </tr>\n",
       "    <tr>\n",
       "      <th>OnlineBackup</th>\n",
       "      <td>7043</td>\n",
       "      <td>3</td>\n",
       "      <td>No</td>\n",
       "      <td>3088</td>\n",
       "      <td>NaN</td>\n",
       "      <td>NaN</td>\n",
       "      <td>NaN</td>\n",
       "      <td>NaN</td>\n",
       "      <td>NaN</td>\n",
       "      <td>NaN</td>\n",
       "      <td>NaN</td>\n",
       "    </tr>\n",
       "    <tr>\n",
       "      <th>DeviceProtection</th>\n",
       "      <td>7043</td>\n",
       "      <td>3</td>\n",
       "      <td>No</td>\n",
       "      <td>3095</td>\n",
       "      <td>NaN</td>\n",
       "      <td>NaN</td>\n",
       "      <td>NaN</td>\n",
       "      <td>NaN</td>\n",
       "      <td>NaN</td>\n",
       "      <td>NaN</td>\n",
       "      <td>NaN</td>\n",
       "    </tr>\n",
       "    <tr>\n",
       "      <th>TechSupport</th>\n",
       "      <td>7043</td>\n",
       "      <td>3</td>\n",
       "      <td>No</td>\n",
       "      <td>3473</td>\n",
       "      <td>NaN</td>\n",
       "      <td>NaN</td>\n",
       "      <td>NaN</td>\n",
       "      <td>NaN</td>\n",
       "      <td>NaN</td>\n",
       "      <td>NaN</td>\n",
       "      <td>NaN</td>\n",
       "    </tr>\n",
       "    <tr>\n",
       "      <th>StreamingTV</th>\n",
       "      <td>7043</td>\n",
       "      <td>3</td>\n",
       "      <td>No</td>\n",
       "      <td>2810</td>\n",
       "      <td>NaN</td>\n",
       "      <td>NaN</td>\n",
       "      <td>NaN</td>\n",
       "      <td>NaN</td>\n",
       "      <td>NaN</td>\n",
       "      <td>NaN</td>\n",
       "      <td>NaN</td>\n",
       "    </tr>\n",
       "    <tr>\n",
       "      <th>StreamingMovies</th>\n",
       "      <td>7043</td>\n",
       "      <td>3</td>\n",
       "      <td>No</td>\n",
       "      <td>2785</td>\n",
       "      <td>NaN</td>\n",
       "      <td>NaN</td>\n",
       "      <td>NaN</td>\n",
       "      <td>NaN</td>\n",
       "      <td>NaN</td>\n",
       "      <td>NaN</td>\n",
       "      <td>NaN</td>\n",
       "    </tr>\n",
       "    <tr>\n",
       "      <th>Contract</th>\n",
       "      <td>7043</td>\n",
       "      <td>3</td>\n",
       "      <td>Month-to-month</td>\n",
       "      <td>3875</td>\n",
       "      <td>NaN</td>\n",
       "      <td>NaN</td>\n",
       "      <td>NaN</td>\n",
       "      <td>NaN</td>\n",
       "      <td>NaN</td>\n",
       "      <td>NaN</td>\n",
       "      <td>NaN</td>\n",
       "    </tr>\n",
       "    <tr>\n",
       "      <th>PaperlessBilling</th>\n",
       "      <td>7043</td>\n",
       "      <td>2</td>\n",
       "      <td>Yes</td>\n",
       "      <td>4171</td>\n",
       "      <td>NaN</td>\n",
       "      <td>NaN</td>\n",
       "      <td>NaN</td>\n",
       "      <td>NaN</td>\n",
       "      <td>NaN</td>\n",
       "      <td>NaN</td>\n",
       "      <td>NaN</td>\n",
       "    </tr>\n",
       "    <tr>\n",
       "      <th>PaymentMethod</th>\n",
       "      <td>7043</td>\n",
       "      <td>4</td>\n",
       "      <td>Electronic check</td>\n",
       "      <td>2365</td>\n",
       "      <td>NaN</td>\n",
       "      <td>NaN</td>\n",
       "      <td>NaN</td>\n",
       "      <td>NaN</td>\n",
       "      <td>NaN</td>\n",
       "      <td>NaN</td>\n",
       "      <td>NaN</td>\n",
       "    </tr>\n",
       "    <tr>\n",
       "      <th>MonthlyCharges</th>\n",
       "      <td>7043.0</td>\n",
       "      <td>NaN</td>\n",
       "      <td>NaN</td>\n",
       "      <td>NaN</td>\n",
       "      <td>64.761692</td>\n",
       "      <td>30.090047</td>\n",
       "      <td>18.25</td>\n",
       "      <td>35.5</td>\n",
       "      <td>70.35</td>\n",
       "      <td>89.85</td>\n",
       "      <td>118.75</td>\n",
       "    </tr>\n",
       "    <tr>\n",
       "      <th>TotalCharges</th>\n",
       "      <td>7043</td>\n",
       "      <td>6531</td>\n",
       "      <td></td>\n",
       "      <td>11</td>\n",
       "      <td>NaN</td>\n",
       "      <td>NaN</td>\n",
       "      <td>NaN</td>\n",
       "      <td>NaN</td>\n",
       "      <td>NaN</td>\n",
       "      <td>NaN</td>\n",
       "      <td>NaN</td>\n",
       "    </tr>\n",
       "    <tr>\n",
       "      <th>Churn</th>\n",
       "      <td>7043</td>\n",
       "      <td>2</td>\n",
       "      <td>No</td>\n",
       "      <td>5174</td>\n",
       "      <td>NaN</td>\n",
       "      <td>NaN</td>\n",
       "      <td>NaN</td>\n",
       "      <td>NaN</td>\n",
       "      <td>NaN</td>\n",
       "      <td>NaN</td>\n",
       "      <td>NaN</td>\n",
       "    </tr>\n",
       "  </tbody>\n",
       "</table>\n",
       "</div>"
      ],
      "text/plain": [
       "                   count unique               top  freq       mean        std  \\\n",
       "customerID          7043   7043        7590-VHVEG     1        NaN        NaN   \n",
       "gender              7043      2              Male  3555        NaN        NaN   \n",
       "SeniorCitizen     7043.0    NaN               NaN   NaN   0.162147   0.368612   \n",
       "Partner             7043      2                No  3641        NaN        NaN   \n",
       "Dependents          7043      2                No  4933        NaN        NaN   \n",
       "tenure            7043.0    NaN               NaN   NaN  32.371149  24.559481   \n",
       "PhoneService        7043      2               Yes  6361        NaN        NaN   \n",
       "MultipleLines       7043      3                No  3390        NaN        NaN   \n",
       "InternetService     7043      3       Fiber optic  3096        NaN        NaN   \n",
       "OnlineSecurity      7043      3                No  3498        NaN        NaN   \n",
       "OnlineBackup        7043      3                No  3088        NaN        NaN   \n",
       "DeviceProtection    7043      3                No  3095        NaN        NaN   \n",
       "TechSupport         7043      3                No  3473        NaN        NaN   \n",
       "StreamingTV         7043      3                No  2810        NaN        NaN   \n",
       "StreamingMovies     7043      3                No  2785        NaN        NaN   \n",
       "Contract            7043      3    Month-to-month  3875        NaN        NaN   \n",
       "PaperlessBilling    7043      2               Yes  4171        NaN        NaN   \n",
       "PaymentMethod       7043      4  Electronic check  2365        NaN        NaN   \n",
       "MonthlyCharges    7043.0    NaN               NaN   NaN  64.761692  30.090047   \n",
       "TotalCharges        7043   6531                      11        NaN        NaN   \n",
       "Churn               7043      2                No  5174        NaN        NaN   \n",
       "\n",
       "                    min   25%    50%    75%     max  \n",
       "customerID          NaN   NaN    NaN    NaN     NaN  \n",
       "gender              NaN   NaN    NaN    NaN     NaN  \n",
       "SeniorCitizen       0.0   0.0    0.0    0.0     1.0  \n",
       "Partner             NaN   NaN    NaN    NaN     NaN  \n",
       "Dependents          NaN   NaN    NaN    NaN     NaN  \n",
       "tenure              0.0   9.0   29.0   55.0    72.0  \n",
       "PhoneService        NaN   NaN    NaN    NaN     NaN  \n",
       "MultipleLines       NaN   NaN    NaN    NaN     NaN  \n",
       "InternetService     NaN   NaN    NaN    NaN     NaN  \n",
       "OnlineSecurity      NaN   NaN    NaN    NaN     NaN  \n",
       "OnlineBackup        NaN   NaN    NaN    NaN     NaN  \n",
       "DeviceProtection    NaN   NaN    NaN    NaN     NaN  \n",
       "TechSupport         NaN   NaN    NaN    NaN     NaN  \n",
       "StreamingTV         NaN   NaN    NaN    NaN     NaN  \n",
       "StreamingMovies     NaN   NaN    NaN    NaN     NaN  \n",
       "Contract            NaN   NaN    NaN    NaN     NaN  \n",
       "PaperlessBilling    NaN   NaN    NaN    NaN     NaN  \n",
       "PaymentMethod       NaN   NaN    NaN    NaN     NaN  \n",
       "MonthlyCharges    18.25  35.5  70.35  89.85  118.75  \n",
       "TotalCharges        NaN   NaN    NaN    NaN     NaN  \n",
       "Churn               NaN   NaN    NaN    NaN     NaN  "
      ]
     },
     "execution_count": 10,
     "metadata": {},
     "output_type": "execute_result"
    }
   ],
   "source": [
    "df.describe(include ='all').T"
   ]
  },
  {
   "cell_type": "code",
   "execution_count": 11,
   "id": "2af4c80b-21f5-49e9-96d8-2c31012ba6d5",
   "metadata": {
    "tags": []
   },
   "outputs": [],
   "source": [
    "#drop customerID\n",
    "df.drop(columns='customerID', inplace= True)"
   ]
  },
  {
   "cell_type": "code",
   "execution_count": 12,
   "id": "4b96a64f-33e6-4da7-8778-565946dfc3aa",
   "metadata": {
    "tags": []
   },
   "outputs": [
    {
     "data": {
      "text/plain": [
       "22"
      ]
     },
     "execution_count": 12,
     "metadata": {},
     "output_type": "execute_result"
    }
   ],
   "source": [
    "df.duplicated().sum()"
   ]
  },
  {
   "cell_type": "code",
   "execution_count": 14,
   "id": "e48ca224-8936-4ce8-a95b-9eda4e09bbc8",
   "metadata": {
    "tags": []
   },
   "outputs": [],
   "source": [
    "df.drop_duplicates(inplace=True)"
   ]
  },
  {
   "cell_type": "markdown",
   "id": "3f20e381-bd35-4a11-8ef5-ed11c6d24180",
   "metadata": {},
   "source": [
    "# Dealing with missing values"
   ]
  },
  {
   "cell_type": "code",
   "execution_count": 15,
   "id": "b1dc2752-284e-4d75-bc9c-74acc40a9c2a",
   "metadata": {
    "tags": []
   },
   "outputs": [
    {
     "data": {
      "text/plain": [
       "gender              0\n",
       "SeniorCitizen       0\n",
       "Partner             0\n",
       "Dependents          0\n",
       "tenure              0\n",
       "PhoneService        0\n",
       "MultipleLines       0\n",
       "InternetService     0\n",
       "OnlineSecurity      0\n",
       "OnlineBackup        0\n",
       "DeviceProtection    0\n",
       "TechSupport         0\n",
       "StreamingTV         0\n",
       "StreamingMovies     0\n",
       "Contract            0\n",
       "PaperlessBilling    0\n",
       "PaymentMethod       0\n",
       "MonthlyCharges      0\n",
       "TotalCharges        0\n",
       "Churn               0\n",
       "dtype: int64"
      ]
     },
     "execution_count": 15,
     "metadata": {},
     "output_type": "execute_result"
    }
   ],
   "source": [
    "df.isna().sum()"
   ]
  },
  {
   "cell_type": "code",
   "execution_count": null,
   "id": "586b4ed2-1ce1-4d03-aed3-ffc964bb6046",
   "metadata": {},
   "outputs": [],
   "source": [
    "#df['TotalCharges']= df['TotalCharges'].astype(float)"
   ]
  },
  {
   "cell_type": "code",
   "execution_count": 16,
   "id": "e96e0e28-18ba-4a24-a1e2-77b30400ad50",
   "metadata": {
    "tags": []
   },
   "outputs": [
    {
     "data": {
      "text/plain": [
       "488      \n",
       "753      \n",
       "936      \n",
       "1082     \n",
       "1340     \n",
       "3331     \n",
       "3826     \n",
       "4380     \n",
       "5218     \n",
       "6670     \n",
       "6754     \n",
       "Name: TotalCharges, dtype: object"
      ]
     },
     "execution_count": 16,
     "metadata": {},
     "output_type": "execute_result"
    }
   ],
   "source": [
    "TotalCharges = df['TotalCharges'].astype(str).apply(lambda x: x if not re.search('\\d+', x)else 'Numeric')\n",
    "TotalCharges[TotalCharges!='Numeric']"
   ]
  },
  {
   "cell_type": "raw",
   "id": "7aabd64a-e956-4167-a899-9a558d586e7f",
   "metadata": {},
   "source": [
    "These rows have ' ' values, this meas these rows is a missing values, so let's drop it since it is not have a big count and doesn't affect on our data."
   ]
  },
  {
   "cell_type": "code",
   "execution_count": 17,
   "id": "92a36830-a9a2-45cd-96e8-1df2da003e62",
   "metadata": {
    "tags": []
   },
   "outputs": [],
   "source": [
    "df.drop(index=TotalCharges[TotalCharges!='Numeric'].index, inplace=True)"
   ]
  },
  {
   "cell_type": "code",
   "execution_count": 18,
   "id": "9f3f73f6-7b76-46d0-b3cd-22417bc4584a",
   "metadata": {
    "tags": []
   },
   "outputs": [
    {
     "name": "stdout",
     "output_type": "stream",
     "text": [
      "<class 'pandas.core.frame.DataFrame'>\n",
      "Index: 7010 entries, 0 to 7042\n",
      "Data columns (total 20 columns):\n",
      " #   Column            Non-Null Count  Dtype  \n",
      "---  ------            --------------  -----  \n",
      " 0   gender            7010 non-null   object \n",
      " 1   SeniorCitizen     7010 non-null   int64  \n",
      " 2   Partner           7010 non-null   object \n",
      " 3   Dependents        7010 non-null   object \n",
      " 4   tenure            7010 non-null   int64  \n",
      " 5   PhoneService      7010 non-null   object \n",
      " 6   MultipleLines     7010 non-null   object \n",
      " 7   InternetService   7010 non-null   object \n",
      " 8   OnlineSecurity    7010 non-null   object \n",
      " 9   OnlineBackup      7010 non-null   object \n",
      " 10  DeviceProtection  7010 non-null   object \n",
      " 11  TechSupport       7010 non-null   object \n",
      " 12  StreamingTV       7010 non-null   object \n",
      " 13  StreamingMovies   7010 non-null   object \n",
      " 14  Contract          7010 non-null   object \n",
      " 15  PaperlessBilling  7010 non-null   object \n",
      " 16  PaymentMethod     7010 non-null   object \n",
      " 17  MonthlyCharges    7010 non-null   float64\n",
      " 18  TotalCharges      7010 non-null   object \n",
      " 19  Churn             7010 non-null   object \n",
      "dtypes: float64(1), int64(2), object(17)\n",
      "memory usage: 1.1+ MB\n"
     ]
    }
   ],
   "source": [
    "df.info()"
   ]
  },
  {
   "cell_type": "markdown",
   "id": "d3a1b1e8-54e2-4475-9e7d-97f4fae05546",
   "metadata": {},
   "source": [
    "# Data Visualization"
   ]
  },
  {
   "cell_type": "markdown",
   "id": "6f339688-e81b-4134-8326-9b8baf4411dc",
   "metadata": {},
   "source": [
    "## 1.1: Target Column (Churn)"
   ]
  },
  {
   "cell_type": "code",
   "execution_count": 20,
   "id": "4a9a8889-5b1c-45a2-a8d7-b4cac1b0a547",
   "metadata": {
    "tags": []
   },
   "outputs": [
    {
     "data": {
      "image/png": "[encoded data removed]",
      "text/plain": [
       "<Figure size 800x600 with 1 Axes>"
      ]
     },
     "metadata": {},
     "output_type": "display_data"
    }
   ],
   "source": [
    "# Get the value counts for 'Churn' column\n",
    "data_temp = df['Churn'].value_counts().sort_index()\n",
    "\n",
    "fig, ax = plt.subplots(figsize=(8, 6))\n",
    "\n",
    "# Plotting the bar chart\n",
    "ax.bar(data_temp.index, data_temp, width=0.55, color=['skyblue', 'salmon'])\n",
    "\n",
    "# Title and axis labels\n",
    "ax.set_title('Churn Distribution', loc='left', fontsize=19, fontweight='bold')\n",
    "ax.set_xlabel('Churn')\n",
    "ax.set_ylabel('Count')\n",
    "\n",
    "# Annotate each bar with its count value\n",
    "for i, count in enumerate(data_temp):\n",
    "    ax.text(i, count + 50, str(count), ha='center', fontsize=12, fontweight='bold')\n",
    "# Hide spines on top and right sides\n",
    "for s in ['top', 'right']:\n",
    "    ax.spines[s].set_visible(False)\n",
    "\n",
    "plt.tight_layout()\n",
    "plt.show()"
   ]
  },
  {
   "cell_type": "markdown",
   "id": "151c5afa-b502-4af3-a5bb-800202368694",
   "metadata": {},
   "source": [
    "# 1.2: Churn vs Gender"
   ]
  },
  {
   "cell_type": "code",
   "execution_count": 26,
   "id": "17469e3e-2073-41e5-b622-d5488b3f4686",
   "metadata": {
    "tags": []
   },
   "outputs": [
    {
     "data": {
      "image/png": "[encoded data removed]",
      "text/plain": [
       "<Figure size 640x480 with 1 Axes>"
      ]
     },
     "metadata": {},
     "output_type": "display_data"
    }
   ],
   "source": [
    "sns.countplot(x='gender', hue=\"Churn\", data=df, palette=\"Paired\",  edgecolor = 'Black', order=df['gender'].value_counts().index)\n",
    "sns.despine()"
   ]
  },
  {
   "cell_type": "markdown",
   "id": "37ee886b-6560-4eeb-bc1f-fd21c98e500c",
   "metadata": {},
   "source": [
    "# 1.3: Churn vs SeniorCitizen"
   ]
  },
  {
   "cell_type": "code",
   "execution_count": 27,
   "id": "030a16c3-62bb-45be-b5a6-1ad0942c2018",
   "metadata": {
    "tags": []
   },
   "outputs": [
    {
     "data": {
      "image/png": "[encoded data removed]",
      "text/plain": [
       "<Figure size 640x480 with 1 Axes>"
      ]
     },
     "metadata": {},
     "output_type": "display_data"
    }
   ],
   "source": [
    "sns.countplot(x='SeniorCitizen', hue=\"Churn\", data=df, palette=\"Paired\", edgecolor = 'Black', order=df['SeniorCitizen'].value_counts().index)\n",
    "sns.despine()"
   ]
  },
  {
   "cell_type": "code",
   "execution_count": 28,
   "id": "897d3b06-6363-4b38-81fb-12457495c50b",
   "metadata": {
    "tags": []
   },
   "outputs": [],
   "source": [
    "# 1.4: Churn vs Partner"
   ]
  },
  {
   "cell_type": "code",
   "execution_count": 29,
   "id": "556ab26f-df4d-4cc0-8fa3-ab301ae89304",
   "metadata": {
    "tags": []
   },
   "outputs": [
    {
     "data": {
      "image/png": "[encoded data removed]",
      "text/plain": [
       "<Figure size 640x480 with 1 Axes>"
      ]
     },
     "metadata": {},
     "output_type": "display_data"
    }
   ],
   "source": [
    "sns.countplot(x='Partner', hue=\"Churn\", data=df, palette=\"Paired\", edgecolor = 'Black', order=df['Partner'].value_counts().index)\n",
    "sns.despine()"
   ]
  },
  {
   "cell_type": "code",
   "execution_count": 31,
   "id": "0b35e75e-728a-4bbf-ab57-19afdc028eb5",
   "metadata": {
    "tags": []
   },
   "outputs": [
    {
     "data": {
      "text/plain": [
       "Partner\n",
       "No     3617\n",
       "Yes    3393\n",
       "Name: count, dtype: int64"
      ]
     },
     "execution_count": 31,
     "metadata": {},
     "output_type": "execute_result"
    }
   ],
   "source": [
    "df['Partner'].value_counts()"
   ]
  },
  {
   "cell_type": "markdown",
   "id": "7d18e23d-f097-4bf0-88de-1097383b4cce",
   "metadata": {},
   "source": [
    "# 1.5: Churn vs Dependents"
   ]
  },
  {
   "cell_type": "code",
   "execution_count": 32,
   "id": "546ac310-e42f-4894-b5fc-d5a970ba2bcd",
   "metadata": {
    "tags": []
   },
   "outputs": [
    {
     "data": {
      "image/png": "[encoded data removed]",
      "text/plain": [
       "<Figure size 640x480 with 1 Axes>"
      ]
     },
     "metadata": {},
     "output_type": "display_data"
    }
   ],
   "source": [
    "sns.countplot(x='Dependents', hue=\"Churn\", data=df, palette=\"Paired\", edgecolor = 'Black', order=df['Dependents'].value_counts().index)\n",
    "sns.despine()"
   ]
  },
  {
   "cell_type": "code",
   "execution_count": null,
   "id": "f09fb9ec-2d2f-4084-9c16-eb50756caf6d",
   "metadata": {},
   "outputs": [],
   "source": [
    "# 1.6: Churn vs Contract"
   ]
  },
  {
   "cell_type": "code",
   "execution_count": 33,
   "id": "2004cff1-d5ad-4fb2-9ade-7d8e2e387971",
   "metadata": {
    "tags": []
   },
   "outputs": [
    {
     "data": {
      "image/png": "[encoded data removed]",
      "text/plain": [
       "<Figure size 640x480 with 1 Axes>"
      ]
     },
     "metadata": {},
     "output_type": "display_data"
    }
   ],
   "source": [
    "sns.countplot(x='Contract', hue=\"Churn\", data=df, palette=\"Paired\", edgecolor = 'Black', order=df['Contract'].value_counts().index)\n",
    "sns.despine()"
   ]
  },
  {
   "cell_type": "code",
   "execution_count": null,
   "id": "fdd63103-7660-4c4a-acc4-cc701591e269",
   "metadata": {},
   "outputs": [],
   "source": [
    "# 1.7: Churn vs MonthlyCharges"
   ]
  },
  {
   "cell_type": "code",
   "execution_count": 35,
   "id": "e2330b34-1876-493b-96d5-cb8905085513",
   "metadata": {
    "tags": []
   },
   "outputs": [
    {
     "data": {
      "image/png": "[encoded data removed]",
      "text/plain": [
       "<Figure size 640x480 with 1 Axes>"
      ]
     },
     "metadata": {},
     "output_type": "display_data"
    }
   ],
   "source": [
    "ax = sns.kdeplot(df['MonthlyCharges'][df[\"Churn\"] == 'No'], fill = True)\n",
    "ax = sns.kdeplot(df['MonthlyCharges'][df[\"Churn\"] == 'Yes'],ax =ax, fill= True)\n",
    "ax.legend([\"Not Churn\",\"Churn\"],loc='upper right')\n",
    "ax.set_ylabel('Density')\n",
    "ax.set_xlabel('Monthly Charges')\n",
    "ax.set_title('Distribution of monthly charges by churn');"
   ]
  },
  {
   "cell_type": "markdown",
   "id": "1af1ecf1-b712-4fca-8deb-3628b5820612",
   "metadata": {},
   "source": [
    "# 1.8: Churn vs TotalCharges"
   ]
  },
  {
   "cell_type": "code",
   "execution_count": 36,
   "id": "78c92db1-1128-4736-ac83-1825e3c3237f",
   "metadata": {
    "tags": []
   },
   "outputs": [
    {
     "data": {
      "image/png": "[encoded data removed]",
      "text/plain": [
       "<Figure size 640x480 with 1 Axes>"
      ]
     },
     "metadata": {},
     "output_type": "display_data"
    }
   ],
   "source": [
    "df['TotalCharges']= df['TotalCharges'].astype(float)\n",
    "\n",
    "ax = sns.kdeplot(df['TotalCharges'][df[\"Churn\"] == 'No'], fill = True)\n",
    "ax = sns.kdeplot(df['TotalCharges'][df[\"Churn\"] == 'Yes'],ax =ax,fill= True)\n",
    "ax.legend([\"Not Churn\",\"Churn\"],loc='upper right')\n",
    "ax.set_ylabel('Density')\n",
    "ax.set_xlabel('TotalCharges')\n",
    "ax.set_title('Distribution of Total Charges by churn');"
   ]
  },
  {
   "cell_type": "markdown",
   "id": "cd822f9a-6c09-4e2c-86e1-203c79e5ba16",
   "metadata": {},
   "source": [
    "# Cluster data:\n",
    " 1- Preprocess and encode Categorical Data\n",
    " 2- Scale Numerical Columns\n",
    " 3- Apply Clustering Algorithm"
   ]
  },
  {
   "cell_type": "code",
   "execution_count": 37,
   "id": "d73b3d17-2859-4e11-bde5-5264258c523d",
   "metadata": {
    "tags": []
   },
   "outputs": [],
   "source": [
    "from sklearn.preprocessing import LabelEncoder, StandardScaler\n",
    "from sklearn.cluster import KMeans  \n",
    "\n",
    "cluster_df= df.copy()\n",
    "\n",
    "numerics_columns= ['tenure', 'MonthlyCharges', 'TotalCharges']\n",
    "cate_columns= [i for i in df.columns if i not in numerics_columns]\n",
    "\n",
    "scaler = StandardScaler()\n",
    "cluster_df[numerics_columns]= scaler.fit_transform(cluster_df[numerics_columns])\n",
    "\n",
    "# Label Encoding for categorical columns\n",
    "label_encoders = {}\n",
    "for col in cate_columns:\n",
    "    label_encoders[col] = LabelEncoder()\n",
    "    cluster_df[col] = label_encoders[col].fit_transform(cluster_df[col])"
   ]
  },
  {
   "cell_type": "code",
   "execution_count": 38,
   "id": "9d94a012-f571-46a6-aa22-8bca6680883d",
   "metadata": {
    "tags": []
   },
   "outputs": [
    {
     "data": {
      "image/png": "[encoded data removed]",
      "text/plain": [
       "<Figure size 800x600 with 1 Axes>"
      ]
     },
     "metadata": {},
     "output_type": "display_data"
    }
   ],
   "source": [
    "from sklearn.cluster import KMeans\n",
    "import warnings\n",
    "warnings.filterwarnings('ignore')\n",
    "\n",
    "wcss = []  # List to store the within-cluster sum of squares\n",
    "\n",
    "# Try different values of k from 1 to a certain number\n",
    "for i in range(1, 11):\n",
    "    kmeans = KMeans(n_clusters=i)\n",
    "    kmeans.fit(cluster_df)\n",
    "    wcss.append(kmeans.inertia_)  # Inertia: within-cluster sum of squares\n",
    "\n",
    "# Plotting the elbow method graph\n",
    "plt.figure(figsize=(8, 6))\n",
    "plt.plot(range(1, 11), wcss, marker='o', linestyle='--')\n",
    "plt.title('Elbow Method')\n",
    "plt.xlabel('Number of clusters (k)')\n",
    "plt.ylabel('Cluter Interia')\n",
    "plt.xticks(np.arange(1, 11, 1))  # Set x-axis ticks from 1 to 10\n",
    "plt.grid(True)\n",
    "plt.show();"
   ]
  },
  {
   "cell_type": "code",
   "execution_count": 39,
   "id": "501c6b11-8f85-435c-97b6-f836c15b23b8",
   "metadata": {},
   "outputs": [],
   "source": [
    "# K-Means cluster analysis\n",
    "kmeans = KMeans(n_clusters = 4,  random_state=42)\n",
    "kmeans.fit(cluster_df)\n",
    "# Save cluster group as a column value in our data_frame\n",
    "cluster_df['Cluster'] = kmeans.labels_"
   ]
  },
  {
   "cell_type": "code",
   "execution_count": 41,
   "id": "32e5d8e0-a47d-4c3b-aabd-32dd279a4308",
   "metadata": {
    "collapsed": true,
    "jupyter": {
     "outputs_hidden": true
    },
    "tags": []
   },
   "outputs": [
    {
     "data": {
      "text/html": [
       "<div>\n",
       "<style scoped>\n",
       "    .dataframe tbody tr th:only-of-type {\n",
       "        vertical-align: middle;\n",
       "    }\n",
       "\n",
       "    .dataframe tbody tr th {\n",
       "        vertical-align: top;\n",
       "    }\n",
       "\n",
       "    .dataframe thead th {\n",
       "        text-align: right;\n",
       "    }\n",
       "</style>\n",
       "<table border=\"1\" class=\"dataframe\">\n",
       "  <thead>\n",
       "    <tr style=\"text-align: right;\">\n",
       "      <th></th>\n",
       "      <th>0</th>\n",
       "    </tr>\n",
       "  </thead>\n",
       "  <tbody>\n",
       "    <tr>\n",
       "      <th>gender</th>\n",
       "      <td>0.000000</td>\n",
       "    </tr>\n",
       "    <tr>\n",
       "      <th>SeniorCitizen</th>\n",
       "      <td>0.000000</td>\n",
       "    </tr>\n",
       "    <tr>\n",
       "      <th>Partner</th>\n",
       "      <td>1.000000</td>\n",
       "    </tr>\n",
       "    <tr>\n",
       "      <th>Dependents</th>\n",
       "      <td>0.000000</td>\n",
       "    </tr>\n",
       "    <tr>\n",
       "      <th>tenure</th>\n",
       "      <td>-1.285566</td>\n",
       "    </tr>\n",
       "    <tr>\n",
       "      <th>PhoneService</th>\n",
       "      <td>0.000000</td>\n",
       "    </tr>\n",
       "    <tr>\n",
       "      <th>MultipleLines</th>\n",
       "      <td>1.000000</td>\n",
       "    </tr>\n",
       "    <tr>\n",
       "      <th>InternetService</th>\n",
       "      <td>0.000000</td>\n",
       "    </tr>\n",
       "    <tr>\n",
       "      <th>OnlineSecurity</th>\n",
       "      <td>0.000000</td>\n",
       "    </tr>\n",
       "    <tr>\n",
       "      <th>OnlineBackup</th>\n",
       "      <td>2.000000</td>\n",
       "    </tr>\n",
       "    <tr>\n",
       "      <th>DeviceProtection</th>\n",
       "      <td>0.000000</td>\n",
       "    </tr>\n",
       "    <tr>\n",
       "      <th>TechSupport</th>\n",
       "      <td>0.000000</td>\n",
       "    </tr>\n",
       "    <tr>\n",
       "      <th>StreamingTV</th>\n",
       "      <td>0.000000</td>\n",
       "    </tr>\n",
       "    <tr>\n",
       "      <th>StreamingMovies</th>\n",
       "      <td>0.000000</td>\n",
       "    </tr>\n",
       "    <tr>\n",
       "      <th>Contract</th>\n",
       "      <td>0.000000</td>\n",
       "    </tr>\n",
       "    <tr>\n",
       "      <th>PaperlessBilling</th>\n",
       "      <td>1.000000</td>\n",
       "    </tr>\n",
       "    <tr>\n",
       "      <th>PaymentMethod</th>\n",
       "      <td>2.000000</td>\n",
       "    </tr>\n",
       "    <tr>\n",
       "      <th>MonthlyCharges</th>\n",
       "      <td>-1.165523</td>\n",
       "    </tr>\n",
       "    <tr>\n",
       "      <th>TotalCharges</th>\n",
       "      <td>-0.997284</td>\n",
       "    </tr>\n",
       "    <tr>\n",
       "      <th>Churn</th>\n",
       "      <td>0.000000</td>\n",
       "    </tr>\n",
       "    <tr>\n",
       "      <th>Cluster</th>\n",
       "      <td>3.000000</td>\n",
       "    </tr>\n",
       "  </tbody>\n",
       "</table>\n",
       "</div>"
      ],
      "text/plain": [
       "                         0\n",
       "gender            0.000000\n",
       "SeniorCitizen     0.000000\n",
       "Partner           1.000000\n",
       "Dependents        0.000000\n",
       "tenure           -1.285566\n",
       "PhoneService      0.000000\n",
       "MultipleLines     1.000000\n",
       "InternetService   0.000000\n",
       "OnlineSecurity    0.000000\n",
       "OnlineBackup      2.000000\n",
       "DeviceProtection  0.000000\n",
       "TechSupport       0.000000\n",
       "StreamingTV       0.000000\n",
       "StreamingMovies   0.000000\n",
       "Contract          0.000000\n",
       "PaperlessBilling  1.000000\n",
       "PaymentMethod     2.000000\n",
       "MonthlyCharges   -1.165523\n",
       "TotalCharges     -0.997284\n",
       "Churn             0.000000\n",
       "Cluster           3.000000"
      ]
     },
     "execution_count": 41,
     "metadata": {},
     "output_type": "execute_result"
    }
   ],
   "source": [
    "cluster_df.head(1).T"
   ]
  },
  {
   "cell_type": "code",
   "execution_count": 42,
   "id": "2c266779-9194-40fe-b470-ee88f27b3bb1",
   "metadata": {},
   "outputs": [
    {
     "data": {
      "text/plain": [
       "<function matplotlib.pyplot.show(close=None, block=None)>"
      ]
     },
     "execution_count": 42,
     "metadata": {},
     "output_type": "execute_result"
    },
    {
     "data": {
      "image/png": "[encoded data removed]",
      "text/plain": [
       "<Figure size 640x480 with 1 Axes>"
      ]
     },
     "metadata": {},
     "output_type": "display_data"
    }
   ],
   "source": [
    "sns.countplot(x='Cluster', hue=\"Churn\", data=cluster_df, palette=\"Paired\", edgecolor = 'Black', order=cluster_df['Cluster'].value_counts(ascending=True).index)\n",
    "plt.legend(title='', loc='upper right', labels=['No Churn', 'Churn'])\n",
    "plt.show"
   ]
  },
  {
   "cell_type": "markdown",
   "id": "dc65fbcd-7f0d-4120-9617-c18d2d30cf8e",
   "metadata": {},
   "source": [
    "# Visualize Clusters with all cateorical columns# "
   ]
  },
  {
   "cell_type": "code",
   "execution_count": null,
   "id": "296b4ed6-fbc7-4f5d-b6c1-5b5b52b12944",
   "metadata": {},
   "outputs": [],
   "source": []
  },
  {
   "cell_type": "code",
   "execution_count": null,
   "id": "0f6c224f-8bbe-4852-a451-36914f533340",
   "metadata": {},
   "outputs": [],
   "source": []
  }
 ],
 "metadata": {
  "kernelspec": {
   "display_name": "Python 3 (ipykernel)",
   "language": "python",
   "name": "python3"
  },
  "language_info": {
   "codemirror_mode": {
    "name": "ipython",
    "version": 3
   },
   "file_extension": ".py",
   "mimetype": "text/x-python",
   "name": "python",
   "nbconvert_exporter": "python",
   "pygments_lexer": "ipython3",
   "version": "3.11.5"
  }
 },
 "nbformat": 4,
 "nbformat_minor": 5
}
