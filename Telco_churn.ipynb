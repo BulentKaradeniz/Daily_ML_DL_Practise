{
 "cells": [
  {
   "cell_type": "markdown",
   "id": "b33a2d10-5e58-4e65-87f3-af75c34fc013",
   "metadata": {},
   "source": [
    "# Telco Clustering📈& Churn Prediction"
   ]
  },
  {
   "cell_type": "raw",
   "id": "4b83d862-25f9-4f53-87ec-3a6f28227dc3",
   "metadata": {},
   "source": [
    "The data set includes information about:\n",
    "\n",
    "Customers who left within the last month – the column is called Churn\n",
    "Services that each customer has signed up for – phone, multiple lines, internet, online security, online backup, device protection, tech support, and streaming TV and movies\n",
    "Customer account information – how long they’ve been a customer, contract, payment method, paperless billing, monthly charges, and total charges\n",
    "Demographic info about customers – gender, age range, and if they have partners and dependents"
   ]
  },
  {
   "cell_type": "markdown",
   "id": "4de646c7-2835-40bf-a001-1cdf5e5da80b",
   "metadata": {},
   "source": [
    "# Columns Decription"
   ]
  },
  {
   "cell_type": "raw",
   "id": "14fb016e-be38-49bd-b482-ccbb10c3268a",
   "metadata": {},
   "source": [
    "customerID - Customer ID\n",
    "\n",
    "gender - Whether the customer is a male or a female\n",
    "\n",
    "SeniorCitizen - Whether the customer is a senior citizen (1, 0)\n",
    "\n",
    "Partner - Whether the customer has a partner (Yes, No)\n",
    "\n",
    "Dependents - Whether the customer has dependents (Yes, No)\n",
    "\n",
    "tenure - Number of months the customer has stayed with the company\n",
    "\n",
    "PhoneService - Whether the customer has a phone service (Yes, No)\n",
    "\n",
    "MultipleLines - Whether the customer has multiple lines (Yes, No, No phone service)\n",
    "\n",
    "InternetService - Customer’s internet service provider (DSL, Fiber optic, No)\n",
    "\n",
    "OnlineSecurity - Whether the customer has online security (Yes, No, No internet service)\n",
    "\n",
    "OnlineBackup - Whether the customer has online backup or not (Yes, No, No internet service)\n",
    "\n",
    "DeviceProtection - Whether the customer has device protection (Yes, No, No internet service)\n",
    "\n",
    "TechSupport - Whether the customer has tech support (Yes, No, No internet service)\n",
    "\n",
    "StreamingTV - Whether the customer has streaming TV service (Yes, No, No internet service)\n",
    "\n",
    "StreamingMovies - Whether the customer has streaming movies service (Yes, No, No internet service)\n",
    "\n",
    "Contract - Indicates the type of the contract (Month-to-month, One year, Two year)\n",
    "\n",
    "PaperlessBilling - Whether the customer has paperless billing (Yes, No)\n",
    "\n",
    "PaymentMethod - Indicates the payment method (Electronic check, Mailed check, Bank transfer (automatic), Credit card (automatic))\n",
    "\n",
    "MonthlyCharges - Indicates the current monthly subscription cost of the customer\n",
    "\n",
    "TotalCharges - Indicates the total charges paid by the customer so far\n",
    "\n",
    "Churn - Indicates whether the customer churned"
   ]
  },
  {
   "cell_type": "markdown",
   "id": "512c5971-aaee-4b2d-9b25-4defe72d02ab",
   "metadata": {},
   "source": [
    "# Import Data"
   ]
  },
  {
   "cell_type": "code",
   "execution_count": 1,
   "id": "a7223b95-89a6-46bd-ad16-2025bdea1f95",
   "metadata": {
    "tags": []
   },
   "outputs": [],
   "source": [
    "import numpy as np\n",
    "import pandas as pd\n",
    "from matplotlib import pyplot as plt\n",
    "import matplotlib.ticker as mtick\n",
    "import seaborn as sns\n",
    "import re"
   ]
  },
  {
   "cell_type": "code",
   "execution_count": 3,
   "id": "a05102f1-9ba3-48a0-8161-c5b6116d1eac",
   "metadata": {
    "tags": []
   },
   "outputs": [],
   "source": [
    "import pandas as pd\n",
    "df = pd.read_csv('WA_Fn-UseC_-Telco-Customer-Churn.csv')"
   ]
  },
  {
   "cell_type": "markdown",
   "id": "5c26939b-f9e7-4506-8e9a-9ef6efccd01b",
   "metadata": {},
   "source": [
    "# Exploring data set"
   ]
  },
  {
   "cell_type": "code",
   "execution_count": 4,
   "id": "b8d31d8b-2469-4052-abe2-d887323f99c0",
   "metadata": {
    "tags": []
   },
   "outputs": [
    {
     "name": "stdout",
     "output_type": "stream",
     "text": [
      "<class 'pandas.core.frame.DataFrame'>\n",
      "RangeIndex: 7043 entries, 0 to 7042\n",
      "Data columns (total 21 columns):\n",
      " #   Column            Non-Null Count  Dtype  \n",
      "---  ------            --------------  -----  \n",
      " 0   customerID        7043 non-null   object \n",
      " 1   gender            7043 non-null   object \n",
      " 2   SeniorCitizen     7043 non-null   int64  \n",
      " 3   Partner           7043 non-null   object \n",
      " 4   Dependents        7043 non-null   object \n",
      " 5   tenure            7043 non-null   int64  \n",
      " 6   PhoneService      7043 non-null   object \n",
      " 7   MultipleLines     7043 non-null   object \n",
      " 8   InternetService   7043 non-null   object \n",
      " 9   OnlineSecurity    7043 non-null   object \n",
      " 10  OnlineBackup      7043 non-null   object \n",
      " 11  DeviceProtection  7043 non-null   object \n",
      " 12  TechSupport       7043 non-null   object \n",
      " 13  StreamingTV       7043 non-null   object \n",
      " 14  StreamingMovies   7043 non-null   object \n",
      " 15  Contract          7043 non-null   object \n",
      " 16  PaperlessBilling  7043 non-null   object \n",
      " 17  PaymentMethod     7043 non-null   object \n",
      " 18  MonthlyCharges    7043 non-null   float64\n",
      " 19  TotalCharges      7043 non-null   object \n",
      " 20  Churn             7043 non-null   object \n",
      "dtypes: float64(1), int64(2), object(18)\n",
      "memory usage: 1.1+ MB\n"
     ]
    }
   ],
   "source": [
    "df.info()"
   ]
  },
  {
   "cell_type": "code",
   "execution_count": null,
   "id": "1fe08ecc-84c8-463a-af09-741b93e000f9",
   "metadata": {},
   "outputs": [],
   "source": []
  },
  {
   "cell_type": "code",
   "execution_count": null,
   "id": "fa21de38-87a7-4103-996a-2d668868af7d",
   "metadata": {},
   "outputs": [],
   "source": []
  }
 ],
 "metadata": {
  "kernelspec": {
   "display_name": "Python 3 (ipykernel)",
   "language": "python",
   "name": "python3"
  },
  "language_info": {
   "codemirror_mode": {
    "name": "ipython",
    "version": 3
   },
   "file_extension": ".py",
   "mimetype": "text/x-python",
   "name": "python",
   "nbconvert_exporter": "python",
   "pygments_lexer": "ipython3",
   "version": "3.11.5"
  }
 },
 "nbformat": 4,
 "nbformat_minor": 5
}
